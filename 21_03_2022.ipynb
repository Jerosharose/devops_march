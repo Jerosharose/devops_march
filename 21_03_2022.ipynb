{
  "nbformat": 4,
  "nbformat_minor": 0,
  "metadata": {
    "colab": {
      "name": "21.03.2022.ipynb",
      "provenance": [],
      "authorship_tag": "ABX9TyNNrkW0RtaF1jTJZZ3E4ZM7",
      "include_colab_link": true
    },
    "kernelspec": {
      "name": "python3",
      "display_name": "Python 3"
    },
    "language_info": {
      "name": "python"
    }
  },
  "cells": [
    {
      "cell_type": "markdown",
      "metadata": {
        "id": "view-in-github",
        "colab_type": "text"
      },
      "source": [
        "<a href=\"https://colab.research.google.com/github/Jerosharose/devops_march/blob/main/21_03_2022.ipynb\" target=\"_parent\"><img src=\"https://colab.research.google.com/assets/colab-badge.svg\" alt=\"Open In Colab\"/></a>"
      ]
    },
    {
      "cell_type": "code",
      "execution_count": 1,
      "metadata": {
        "colab": {
          "base_uri": "https://localhost:8080/"
        },
        "id": "wVs2K_kzNdvH",
        "outputId": "a7467004-7b9f-4dce-cae9-018af1e6656b"
      },
      "outputs": [
        {
          "output_type": "stream",
          "name": "stdout",
          "text": [
            ".txt\n"
          ]
        }
      ],
      "source": [
        "#Python program to extract Extension From the File Name\n",
        "\n",
        "import os\n",
        "file_details = os.path.splitext('/content/3d printing.txt')\n",
        "print(file_details[1])"
      ]
    },
    {
      "cell_type": "code",
      "source": [
        "#Python Program to Measure the Elapsed Time \n",
        "\n",
        "import time\n",
        "\n",
        "start = time.time()\n",
        "end = time.time()\n",
        "print(end - start)"
      ],
      "metadata": {
        "colab": {
          "base_uri": "https://localhost:8080/"
        },
        "id": "xaOg7tjINoFn",
        "outputId": "441e3ea2-8cc5-4151-ed2a-4515f0cd9c31"
      },
      "execution_count": 2,
      "outputs": [
        {
          "output_type": "stream",
          "name": "stdout",
          "text": [
            "1.6689300537109375e-05\n"
          ]
        }
      ]
    },
    {
      "cell_type": "code",
      "source": [
        "#Python Program to Get the Class Name of an Instance\n",
        "\n",
        "class Vehicle:\n",
        "    def varieties():\n",
        "        pass\n",
        "\n",
        "v = Vehicle()\n",
        "print(v.__class__.__name__)"
      ],
      "metadata": {
        "colab": {
          "base_uri": "https://localhost:8080/"
        },
        "id": "jPQ7t6hqNqcZ",
        "outputId": "1d40db27-264f-44cb-b34d-3f72b0f80811"
      },
      "execution_count": 4,
      "outputs": [
        {
          "output_type": "stream",
          "name": "stdout",
          "text": [
            "Vehicle\n"
          ]
        }
      ]
    },
    {
      "cell_type": "code",
      "source": [
        "#Python Program to Convert Two Lists Into a Dictionary\n",
        "\n",
        "numbers = [1, 2, 3]\n",
        "letters = ['python', 'c', 'c++']\n",
        "\n",
        "dictionary = dict(zip(numbers, letters))\n",
        "print(dictionary)"
      ],
      "metadata": {
        "colab": {
          "base_uri": "https://localhost:8080/"
        },
        "id": "GrOun9d8N2AP",
        "outputId": "d3c86c46-da99-41bf-f901-474f5a012d47"
      },
      "execution_count": 5,
      "outputs": [
        {
          "output_type": "stream",
          "name": "stdout",
          "text": [
            "{1: 'python', 2: 'c', 3: 'c++'}\n"
          ]
        }
      ]
    }
  ]
}